{
  "nbformat": 4,
  "nbformat_minor": 0,
  "metadata": {
    "colab": {
      "name": "Covid.ipynb",
      "provenance": [],
      "authorship_tag": "ABX9TyN9QhIMwIv6JqpYKK2kSNJM",
      "include_colab_link": true
    },
    "kernelspec": {
      "name": "python3",
      "display_name": "Python 3"
    }
  },
  "cells": [
    {
      "cell_type": "markdown",
      "metadata": {
        "id": "view-in-github",
        "colab_type": "text"
      },
      "source": [
        "<a href=\"https://colab.research.google.com/github/JeanRintoul/Covid-19/blob/master/Covid.ipynb\" target=\"_parent\"><img src=\"https://colab.research.google.com/assets/colab-badge.svg\" alt=\"Open In Colab\"/></a>"
      ]
    },
    {
      "cell_type": "code",
      "metadata": {
        "id": "YpNvrHBmSXGh",
        "colab_type": "code",
        "outputId": "f32247c5-9c33-4ae0-fc84-ee056d16e43f",
        "colab": {
          "base_uri": "https://localhost:8080/",
          "height": 255
        }
      },
      "source": [
        "# import pandas as pd\n",
        "confirmed = \"https://raw.githubusercontent.com/CSSEGISandData/COVID-19/master/csse_covid_19_data/csse_covid_19_time_series/time_series_19-covid-Confirmed.csv\"\n",
        "data = pd.read_csv(confirmed) \n",
        "# print(data.head())\n",
        "print (data)\n",
        "\n"
      ],
      "execution_count": 0,
      "outputs": [
        {
          "output_type": "stream",
          "text": [
            "            Province/State  Country/Region      Lat  ...  3/5/20  3/6/20  3/7/20\n",
            "0                    Anhui  Mainland China  31.8257  ...     990     990     990\n",
            "1                  Beijing  Mainland China  40.1824  ...     418     422     426\n",
            "2                Chongqing  Mainland China  30.0572  ...     576     576     576\n",
            "3                   Fujian  Mainland China  26.0789  ...     296     296     296\n",
            "4                    Gansu  Mainland China  36.0611  ...     102     119     120\n",
            "..                     ...             ...      ...  ...     ...     ...     ...\n",
            "220      Pierce County, WA              US  47.0676  ...       0       0       1\n",
            "221    Plymouth County, MA              US  42.1615  ...       0       1       1\n",
            "222  Santa Cruz County, CA              US  36.9741  ...       0       0       1\n",
            "223       Tulsa County, OK              US  36.1593  ...       0       0       1\n",
            "224  Montgomery County, TX              US  30.3213  ...       0       0       0\n",
            "\n",
            "[225 rows x 50 columns]\n"
          ],
          "name": "stdout"
        }
      ]
    }
  ]
}